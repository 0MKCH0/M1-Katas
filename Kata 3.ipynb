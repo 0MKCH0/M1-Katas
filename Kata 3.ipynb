{
 "cells": [
  {
   "cell_type": "markdown",
   "metadata": {},
   "source": [
    "# If else"
   ]
  },
  {
   "cell_type": "code",
   "execution_count": 12,
   "metadata": {},
   "outputs": [
    {
     "name": "stdout",
     "output_type": "stream",
     "text": [
      "¡ADVERTENCIA!\n",
      " Velocidad peligrosa\n"
     ]
    }
   ],
   "source": [
    "v_a = 49\n",
    "if v_a > 25:\n",
    "    print(\"¡ADVERTENCIA!\\n Velocidad peligrosa\")\n",
    "else:\n",
    "    print(\"Velocidad fuera de peligro\")"
   ]
  },
  {
   "cell_type": "markdown",
   "metadata": {},
   "source": [
    " # if, else y elif"
   ]
  },
  {
   "cell_type": "code",
   "execution_count": 8,
   "metadata": {},
   "outputs": [
    {
     "name": "stdout",
     "output_type": "stream",
     "text": [
      "No hay nada que ver\n"
     ]
    }
   ],
   "source": [
    "v_a2 = 19\n",
    "if v_a2 > 20:\n",
    "    print(\"¡Mira al cielo!\")\n",
    "elif v_a2 == 20:\n",
    "    print(\"¡Mira al cielo!\")\n",
    "else:\n",
    "    print(\"No hay nada que ver\")\n"
   ]
  },
  {
   "cell_type": "markdown",
   "metadata": {},
   "source": [
    "# if, else y elif with or, and"
   ]
  },
  {
   "cell_type": "code",
   "execution_count": 9,
   "metadata": {},
   "outputs": [
    {
     "name": "stdout",
     "output_type": "stream",
     "text": [
      "¡Mira al cielo!\n"
     ]
    }
   ],
   "source": [
    "v_a = 25\n",
    "tam_a = 40\n",
    "if v_a > 25 and tam_a > 25:\n",
    "    print(\"¡Alerta, Un asteroide muy peligroso viene hacia la Tierra!\")\n",
    "elif v_a >= 20:\n",
    "    print(\"¡Mira al cielo!\")\n",
    "elif tam_a < 25:\n",
    "    print(\"No hay nada que ver\")\n",
    "else:\n",
    "    print(\"No hay nada que ver\")"
   ]
  }
 ],
 "metadata": {
  "interpreter": {
   "hash": "94dfd0829861ea723591b3001b7b8d6efd29c21741fffd6b6a162c01382c010b"
  },
  "kernelspec": {
   "display_name": "Python 3.10.2 64-bit",
   "language": "python",
   "name": "python3"
  },
  "language_info": {
   "codemirror_mode": {
    "name": "ipython",
    "version": 3
   },
   "file_extension": ".py",
   "mimetype": "text/x-python",
   "name": "python",
   "nbconvert_exporter": "python",
   "pygments_lexer": "ipython3",
   "version": "3.10.2"
  },
  "orig_nbformat": 4
 },
 "nbformat": 4,
 "nbformat_minor": 2
}
